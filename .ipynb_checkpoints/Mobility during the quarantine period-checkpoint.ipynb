{
 "cells": [
  {
   "cell_type": "markdown",
   "metadata": {},
   "source": [
    "# <center>  كل ما سوف تقرؤه فهو لا يمثل الواقع بأي شكلٍ كان وليس إلا عبارةً عن فضاء غير واقعي من عالم الاحتمالات </center>\n",
    "# <center> خربشات ورياضيات </center>"
   ]
  },
  {
   "cell_type": "code",
   "execution_count": 1,
   "metadata": {},
   "outputs": [],
   "source": [
    "import numpy as np\n",
    "import scipy.stats\n",
    "import matplotlib.pyplot as plt\n",
    "import pandas as pd"
   ]
  },
  {
   "cell_type": "code",
   "execution_count": 2,
   "metadata": {},
   "outputs": [],
   "source": [
    "np.random.seed(42)"
   ]
  },
  {
   "cell_type": "code",
   "execution_count": 3,
   "metadata": {},
   "outputs": [],
   "source": [
    "def generator():\n",
    "    '''\n",
    "    This function to generating normal random sample of the tims mobility\n",
    "    '''\n",
    "    distribution = scipy.stats.norm(loc=11,scale=2.8)\n",
    "    hours = distribution.rvs(size=1000000)\n",
    "    return hours"
   ]
  },
  {
   "cell_type": "code",
   "execution_count": 4,
   "metadata": {},
   "outputs": [],
   "source": [
    "day_hours= {\"Sunday\":generator(),\"Monday\":generator(),\"Tuesday\":generator(),\"Wednesday\":generator(),\"Thursday\":generator()}"
   ]
  },
  {
   "cell_type": "code",
   "execution_count": 5,
   "metadata": {},
   "outputs": [],
   "source": [
    "# df = pd.DataFrame.from_dict(day_hours)\n",
    "# df.to_csv(\"data.csv\")\n",
    "day_hours= pd.read_csv(\"data.csv\")"
   ]
  },
  {
   "cell_type": "code",
   "execution_count": 6,
   "metadata": {},
   "outputs": [
    {
     "data": {
      "text/plain": [
       "(1000000, 6)"
      ]
     },
     "execution_count": 6,
     "metadata": {},
     "output_type": "execute_result"
    }
   ],
   "source": [
    "day_hours.shape"
   ]
  },
  {
   "cell_type": "code",
   "execution_count": 7,
   "metadata": {},
   "outputs": [
    {
     "data": {
      "text/html": [
       "<div>\n",
       "<style scoped>\n",
       "    .dataframe tbody tr th:only-of-type {\n",
       "        vertical-align: middle;\n",
       "    }\n",
       "\n",
       "    .dataframe tbody tr th {\n",
       "        vertical-align: top;\n",
       "    }\n",
       "\n",
       "    .dataframe thead th {\n",
       "        text-align: right;\n",
       "    }\n",
       "</style>\n",
       "<table border=\"1\" class=\"dataframe\">\n",
       "  <thead>\n",
       "    <tr style=\"text-align: right;\">\n",
       "      <th></th>\n",
       "      <th>Unnamed: 0</th>\n",
       "      <th>Sunday</th>\n",
       "      <th>Monday</th>\n",
       "      <th>Tuesday</th>\n",
       "      <th>Wednesday</th>\n",
       "      <th>Thursday</th>\n",
       "    </tr>\n",
       "  </thead>\n",
       "  <tbody>\n",
       "    <tr>\n",
       "      <td>0</td>\n",
       "      <td>0</td>\n",
       "      <td>12.390800</td>\n",
       "      <td>11.473681</td>\n",
       "      <td>13.981223</td>\n",
       "      <td>7.899951</td>\n",
       "      <td>10.484784</td>\n",
       "    </tr>\n",
       "    <tr>\n",
       "      <td>1</td>\n",
       "      <td>1</td>\n",
       "      <td>10.612860</td>\n",
       "      <td>10.659786</td>\n",
       "      <td>9.609203</td>\n",
       "      <td>6.045786</td>\n",
       "      <td>11.122622</td>\n",
       "    </tr>\n",
       "    <tr>\n",
       "      <td>2</td>\n",
       "      <td>2</td>\n",
       "      <td>12.813528</td>\n",
       "      <td>14.238551</td>\n",
       "      <td>11.361929</td>\n",
       "      <td>10.054138</td>\n",
       "      <td>14.311050</td>\n",
       "    </tr>\n",
       "    <tr>\n",
       "      <td>3</td>\n",
       "      <td>3</td>\n",
       "      <td>15.264484</td>\n",
       "      <td>11.560240</td>\n",
       "      <td>6.856859</td>\n",
       "      <td>12.406658</td>\n",
       "      <td>10.203905</td>\n",
       "    </tr>\n",
       "    <tr>\n",
       "      <td>4</td>\n",
       "      <td>4</td>\n",
       "      <td>10.344371</td>\n",
       "      <td>13.420910</td>\n",
       "      <td>10.132428</td>\n",
       "      <td>12.241810</td>\n",
       "      <td>10.089570</td>\n",
       "    </tr>\n",
       "  </tbody>\n",
       "</table>\n",
       "</div>"
      ],
      "text/plain": [
       "   Unnamed: 0     Sunday     Monday    Tuesday  Wednesday   Thursday\n",
       "0           0  12.390800  11.473681  13.981223   7.899951  10.484784\n",
       "1           1  10.612860  10.659786   9.609203   6.045786  11.122622\n",
       "2           2  12.813528  14.238551  11.361929  10.054138  14.311050\n",
       "3           3  15.264484  11.560240   6.856859  12.406658  10.203905\n",
       "4           4  10.344371  13.420910  10.132428  12.241810  10.089570"
      ]
     },
     "execution_count": 7,
     "metadata": {},
     "output_type": "execute_result"
    }
   ],
   "source": [
    "day_hours.head()"
   ]
  },
  {
   "cell_type": "code",
   "execution_count": 8,
   "metadata": {},
   "outputs": [
    {
     "data": {
      "text/html": [
       "<div>\n",
       "<style scoped>\n",
       "    .dataframe tbody tr th:only-of-type {\n",
       "        vertical-align: middle;\n",
       "    }\n",
       "\n",
       "    .dataframe tbody tr th {\n",
       "        vertical-align: top;\n",
       "    }\n",
       "\n",
       "    .dataframe thead th {\n",
       "        text-align: right;\n",
       "    }\n",
       "</style>\n",
       "<table border=\"1\" class=\"dataframe\">\n",
       "  <thead>\n",
       "    <tr style=\"text-align: right;\">\n",
       "      <th></th>\n",
       "      <th>Sunday</th>\n",
       "      <th>Monday</th>\n",
       "      <th>Tuesday</th>\n",
       "      <th>Wednesday</th>\n",
       "      <th>Thursday</th>\n",
       "    </tr>\n",
       "  </thead>\n",
       "  <tbody>\n",
       "    <tr>\n",
       "      <td>0</td>\n",
       "      <td>12.390800</td>\n",
       "      <td>11.473681</td>\n",
       "      <td>13.981223</td>\n",
       "      <td>7.899951</td>\n",
       "      <td>10.484784</td>\n",
       "    </tr>\n",
       "    <tr>\n",
       "      <td>1</td>\n",
       "      <td>10.612860</td>\n",
       "      <td>10.659786</td>\n",
       "      <td>9.609203</td>\n",
       "      <td>6.045786</td>\n",
       "      <td>11.122622</td>\n",
       "    </tr>\n",
       "    <tr>\n",
       "      <td>2</td>\n",
       "      <td>12.813528</td>\n",
       "      <td>14.238551</td>\n",
       "      <td>11.361929</td>\n",
       "      <td>10.054138</td>\n",
       "      <td>14.311050</td>\n",
       "    </tr>\n",
       "    <tr>\n",
       "      <td>3</td>\n",
       "      <td>15.264484</td>\n",
       "      <td>11.560240</td>\n",
       "      <td>6.856859</td>\n",
       "      <td>12.406658</td>\n",
       "      <td>10.203905</td>\n",
       "    </tr>\n",
       "    <tr>\n",
       "      <td>4</td>\n",
       "      <td>10.344371</td>\n",
       "      <td>13.420910</td>\n",
       "      <td>10.132428</td>\n",
       "      <td>12.241810</td>\n",
       "      <td>10.089570</td>\n",
       "    </tr>\n",
       "  </tbody>\n",
       "</table>\n",
       "</div>"
      ],
      "text/plain": [
       "      Sunday     Monday    Tuesday  Wednesday   Thursday\n",
       "0  12.390800  11.473681  13.981223   7.899951  10.484784\n",
       "1  10.612860  10.659786   9.609203   6.045786  11.122622\n",
       "2  12.813528  14.238551  11.361929  10.054138  14.311050\n",
       "3  15.264484  11.560240   6.856859  12.406658  10.203905\n",
       "4  10.344371  13.420910  10.132428  12.241810  10.089570"
      ]
     },
     "execution_count": 8,
     "metadata": {},
     "output_type": "execute_result"
    }
   ],
   "source": [
    "day_hours.rename({\"Unnamed: 0\":\"first\"}, axis=\"columns\", inplace=True)\n",
    "day_hours.drop([\"first\"], axis=1, inplace=True)\n",
    "day_hours.head()"
   ]
  },
  {
   "cell_type": "code",
   "execution_count": 9,
   "metadata": {},
   "outputs": [
    {
     "data": {
      "image/png": "[encoded data removed]",
      "text/plain": [
       "<Figure size 864x144 with 1 Axes>"
      ]
     },
     "metadata": {
      "needs_background": "light"
     },
     "output_type": "display_data"
    }
   ],
   "source": [
    "_=plt.figure(figsize=(12,2))\n",
    "_=plt.hist(day_hours[\"Sunday\"], bins=20)\n",
    "_=plt.xticks(np.arange(0,24))\n",
    "_=plt.axvline(15, color='red')\n",
    "_=plt.axvline(6, color='red')\n",
    "_=plt.axvspan(6, 15, alpha=0.5, color='g')\n",
    "_=plt.axvspan(0, 6, alpha=0.5, color='r')\n",
    "_=plt.axvspan(15, 23, alpha=0.5, color='r')\n",
    "_= plt.title('The distribution of Traffic on Sunday ')\n",
    "_= plt.xlabel('The time ')\n",
    "_= plt.ylabel('number of persons ')\n",
    "plt.show()"
   ]
  },
  {
   "cell_type": "markdown",
   "metadata": {},
   "source": [
    "## <center>  الرسم البياني أعلاه يمثل الحركة الافتراضية ليوم الأحد </center>"
   ]
  },
  {
   "cell_type": "markdown",
   "metadata": {},
   "source": [
    "<div style=\"direction:rtl\">\n",
    "    <font size=\"4\">\n",
    "نلاحظ في هذا الرسم البياني بالأعلى أن انتشر البيانات انتشار طبيعي حيث تتكتل ذروة البيانات حول المتوسط والذي يساوي 11 وذلك يدل على أن ذروة الإزداحام سوف تكون في الساعة 11 وقبلها بساعة وبعدها بساعة \n",
    "تمثل المنطقة الخضراء في الرسم البياني الفترة المسموح فيها بالتنقل، والمنطقة التي باللون الأحمر تمثل أوقات منع التجول إلا لضرورة، نلاحظ أنه بين الساعة 15 و 16 هناك نوع من الزحام \n",
    "وهذا إن دل دل على أن من هذا الزحام بسبب كثرة الذين يسلكون الطرق في هذه الوقت والذين لم يصلوا إلى وجهاتهم لضروف معينة مثل الحفريات وضيق بعض الأطرقة وكذلك التحويلات إن وجدت، من المحتمل أن يبدأ استعداد الناس للإنطلاق إلى شؤونهم من الساعة 5:45 دقيقة ولكن هذا قبل الوقت المسموح به ولكن من الممكن أن يكون هذا الوقت وقت التأهب للإنطلاق.\n",
    "من المحتمل أن يكون سبب تزايد لزحام من الساعة 8:30 حتى الساعة 12 هو أن الكثيرين من الأشخاص الذين يذهبون للشراء في الفترة المسائية سوف يستغلون الفترة الصباحية لأن في الفترة المسائية حظر للتجول والخروج، زحام فترة التسوق سيكون من الساعة 8:30 حتى 1:30، ليس هناك زحام بسبب الموظفين والمدارس لأن أكثرهم في إجازة من الدولة.\n",
    "</font>\n",
    "</div>"
   ]
  },
  {
   "cell_type": "code",
   "execution_count": null,
   "metadata": {},
   "outputs": [],
   "source": []
  },
  {
   "cell_type": "markdown",
   "metadata": {},
   "source": [
    "## <center> كل ما سوف يأتي هو أفتراض أن لدينا 500000 مشوار في كل يوم من أيام العمل في أي أسبوع من أسابيع التي في فترة الحظر </center>"
   ]
  },
  {
   "cell_type": "code",
   "execution_count": 10,
   "metadata": {},
   "outputs": [],
   "source": [
    "def expirment(number_of_persons):\n",
    "    '''\n",
    "    This function for generating some expirments of mobility.\n",
    "    '''\n",
    "    exper={\"no\":[\"no\" for i in range(number_of_persons)],\n",
    "          \"id\":[i for i in range(number_of_persons)],\n",
    "          \"Sunday\":np.random.choice(day_hours[\"Sunday\"].round(), size= number_of_persons),\n",
    "          \"Monday\":np.random.choice(day_hours[\"Monday\"].round(), size= number_of_persons),\n",
    "          \"Tuesday\":np.random.choice(day_hours[\"Tuesday\"].round(), size= number_of_persons),\n",
    "          \"Wednesday\":np.random.choice(day_hours[\"Wednesday\"].round(), size= number_of_persons),\n",
    "          \"Thursday\":np.random.choice(day_hours[\"Thursday\"].round(), size= number_of_persons)}\n",
    "    df_expir= pd.DataFrame.from_dict(exper)\n",
    "    return df_expir\n",
    "# expirment(2)"
   ]
  },
  {
   "cell_type": "code",
   "execution_count": 11,
   "metadata": {},
   "outputs": [
    {
     "data": {
      "text/html": [
       "<div>\n",
       "<style scoped>\n",
       "    .dataframe tbody tr th:only-of-type {\n",
       "        vertical-align: middle;\n",
       "    }\n",
       "\n",
       "    .dataframe tbody tr th {\n",
       "        vertical-align: top;\n",
       "    }\n",
       "\n",
       "    .dataframe thead th {\n",
       "        text-align: right;\n",
       "    }\n",
       "</style>\n",
       "<table border=\"1\" class=\"dataframe\">\n",
       "  <thead>\n",
       "    <tr style=\"text-align: right;\">\n",
       "      <th></th>\n",
       "      <th>no</th>\n",
       "      <th>id</th>\n",
       "      <th>Sunday</th>\n",
       "      <th>Monday</th>\n",
       "      <th>Tuesday</th>\n",
       "      <th>Wednesday</th>\n",
       "      <th>Thursday</th>\n",
       "    </tr>\n",
       "  </thead>\n",
       "  <tbody>\n",
       "    <tr>\n",
       "      <td>0</td>\n",
       "      <td>no</td>\n",
       "      <td>0</td>\n",
       "      <td>12.0</td>\n",
       "      <td>7.0</td>\n",
       "      <td>9.0</td>\n",
       "      <td>8.0</td>\n",
       "      <td>14.0</td>\n",
       "    </tr>\n",
       "    <tr>\n",
       "      <td>1</td>\n",
       "      <td>no</td>\n",
       "      <td>1</td>\n",
       "      <td>11.0</td>\n",
       "      <td>14.0</td>\n",
       "      <td>14.0</td>\n",
       "      <td>14.0</td>\n",
       "      <td>9.0</td>\n",
       "    </tr>\n",
       "    <tr>\n",
       "      <td>2</td>\n",
       "      <td>no</td>\n",
       "      <td>2</td>\n",
       "      <td>10.0</td>\n",
       "      <td>10.0</td>\n",
       "      <td>12.0</td>\n",
       "      <td>9.0</td>\n",
       "      <td>9.0</td>\n",
       "    </tr>\n",
       "    <tr>\n",
       "      <td>3</td>\n",
       "      <td>no</td>\n",
       "      <td>3</td>\n",
       "      <td>13.0</td>\n",
       "      <td>10.0</td>\n",
       "      <td>10.0</td>\n",
       "      <td>13.0</td>\n",
       "      <td>11.0</td>\n",
       "    </tr>\n",
       "    <tr>\n",
       "      <td>4</td>\n",
       "      <td>no</td>\n",
       "      <td>4</td>\n",
       "      <td>13.0</td>\n",
       "      <td>10.0</td>\n",
       "      <td>14.0</td>\n",
       "      <td>15.0</td>\n",
       "      <td>14.0</td>\n",
       "    </tr>\n",
       "  </tbody>\n",
       "</table>\n",
       "</div>"
      ],
      "text/plain": [
       "   no  id  Sunday  Monday  Tuesday  Wednesday  Thursday\n",
       "0  no   0    12.0     7.0      9.0        8.0      14.0\n",
       "1  no   1    11.0    14.0     14.0       14.0       9.0\n",
       "2  no   2    10.0    10.0     12.0        9.0       9.0\n",
       "3  no   3    13.0    10.0     10.0       13.0      11.0\n",
       "4  no   4    13.0    10.0     14.0       15.0      14.0"
      ]
     },
     "execution_count": 11,
     "metadata": {},
     "output_type": "execute_result"
    }
   ],
   "source": [
    "'''\n",
    "generating 500000 trips for any 5 work days.\n",
    "'''\n",
    "df= expirment(500000)\n",
    "df.head()"
   ]
  },
  {
   "cell_type": "code",
   "execution_count": 12,
   "metadata": {},
   "outputs": [
    {
     "data": {
      "text/html": [
       "<div>\n",
       "<style scoped>\n",
       "    .dataframe tbody tr th:only-of-type {\n",
       "        vertical-align: middle;\n",
       "    }\n",
       "\n",
       "    .dataframe tbody tr th {\n",
       "        vertical-align: top;\n",
       "    }\n",
       "\n",
       "    .dataframe thead th {\n",
       "        text-align: right;\n",
       "    }\n",
       "</style>\n",
       "<table border=\"1\" class=\"dataframe\">\n",
       "  <thead>\n",
       "    <tr style=\"text-align: right;\">\n",
       "      <th></th>\n",
       "      <th>no</th>\n",
       "      <th>id</th>\n",
       "      <th>Sunday</th>\n",
       "      <th>Monday</th>\n",
       "      <th>Tuesday</th>\n",
       "      <th>Wednesday</th>\n",
       "      <th>Thursday</th>\n",
       "      <th>expirment_no</th>\n",
       "    </tr>\n",
       "  </thead>\n",
       "  <tbody>\n",
       "    <tr>\n",
       "      <td>0</td>\n",
       "      <td>no</td>\n",
       "      <td>0</td>\n",
       "      <td>12.0</td>\n",
       "      <td>7.0</td>\n",
       "      <td>9.0</td>\n",
       "      <td>8.0</td>\n",
       "      <td>14.0</td>\n",
       "      <td>no-0</td>\n",
       "    </tr>\n",
       "    <tr>\n",
       "      <td>1</td>\n",
       "      <td>no</td>\n",
       "      <td>1</td>\n",
       "      <td>11.0</td>\n",
       "      <td>14.0</td>\n",
       "      <td>14.0</td>\n",
       "      <td>14.0</td>\n",
       "      <td>9.0</td>\n",
       "      <td>no-1</td>\n",
       "    </tr>\n",
       "    <tr>\n",
       "      <td>2</td>\n",
       "      <td>no</td>\n",
       "      <td>2</td>\n",
       "      <td>10.0</td>\n",
       "      <td>10.0</td>\n",
       "      <td>12.0</td>\n",
       "      <td>9.0</td>\n",
       "      <td>9.0</td>\n",
       "      <td>no-2</td>\n",
       "    </tr>\n",
       "    <tr>\n",
       "      <td>3</td>\n",
       "      <td>no</td>\n",
       "      <td>3</td>\n",
       "      <td>13.0</td>\n",
       "      <td>10.0</td>\n",
       "      <td>10.0</td>\n",
       "      <td>13.0</td>\n",
       "      <td>11.0</td>\n",
       "      <td>no-3</td>\n",
       "    </tr>\n",
       "    <tr>\n",
       "      <td>4</td>\n",
       "      <td>no</td>\n",
       "      <td>4</td>\n",
       "      <td>13.0</td>\n",
       "      <td>10.0</td>\n",
       "      <td>14.0</td>\n",
       "      <td>15.0</td>\n",
       "      <td>14.0</td>\n",
       "      <td>no-4</td>\n",
       "    </tr>\n",
       "  </tbody>\n",
       "</table>\n",
       "</div>"
      ],
      "text/plain": [
       "   no  id  Sunday  Monday  Tuesday  Wednesday  Thursday expirment_no\n",
       "0  no   0    12.0     7.0      9.0        8.0      14.0         no-0\n",
       "1  no   1    11.0    14.0     14.0       14.0       9.0         no-1\n",
       "2  no   2    10.0    10.0     12.0        9.0       9.0         no-2\n",
       "3  no   3    13.0    10.0     10.0       13.0      11.0         no-3\n",
       "4  no   4    13.0    10.0     14.0       15.0      14.0         no-4"
      ]
     },
     "execution_count": 12,
     "metadata": {},
     "output_type": "execute_result"
    }
   ],
   "source": [
    "df['expirment_no']=df.no.astype(str).str.cat(df.id.astype(str), sep='-')\n",
    "df.head()"
   ]
  },
  {
   "cell_type": "code",
   "execution_count": 13,
   "metadata": {},
   "outputs": [
    {
     "data": {
      "text/html": [
       "<div>\n",
       "<style scoped>\n",
       "    .dataframe tbody tr th:only-of-type {\n",
       "        vertical-align: middle;\n",
       "    }\n",
       "\n",
       "    .dataframe tbody tr th {\n",
       "        vertical-align: top;\n",
       "    }\n",
       "\n",
       "    .dataframe thead th {\n",
       "        text-align: right;\n",
       "    }\n",
       "</style>\n",
       "<table border=\"1\" class=\"dataframe\">\n",
       "  <thead>\n",
       "    <tr style=\"text-align: right;\">\n",
       "      <th></th>\n",
       "      <th>Sunday</th>\n",
       "      <th>Monday</th>\n",
       "      <th>Tuesday</th>\n",
       "      <th>Wednesday</th>\n",
       "      <th>Thursday</th>\n",
       "      <th>expirment_no</th>\n",
       "    </tr>\n",
       "  </thead>\n",
       "  <tbody>\n",
       "    <tr>\n",
       "      <td>0</td>\n",
       "      <td>12.0</td>\n",
       "      <td>7.0</td>\n",
       "      <td>9.0</td>\n",
       "      <td>8.0</td>\n",
       "      <td>14.0</td>\n",
       "      <td>no-0</td>\n",
       "    </tr>\n",
       "    <tr>\n",
       "      <td>1</td>\n",
       "      <td>11.0</td>\n",
       "      <td>14.0</td>\n",
       "      <td>14.0</td>\n",
       "      <td>14.0</td>\n",
       "      <td>9.0</td>\n",
       "      <td>no-1</td>\n",
       "    </tr>\n",
       "    <tr>\n",
       "      <td>2</td>\n",
       "      <td>10.0</td>\n",
       "      <td>10.0</td>\n",
       "      <td>12.0</td>\n",
       "      <td>9.0</td>\n",
       "      <td>9.0</td>\n",
       "      <td>no-2</td>\n",
       "    </tr>\n",
       "    <tr>\n",
       "      <td>3</td>\n",
       "      <td>13.0</td>\n",
       "      <td>10.0</td>\n",
       "      <td>10.0</td>\n",
       "      <td>13.0</td>\n",
       "      <td>11.0</td>\n",
       "      <td>no-3</td>\n",
       "    </tr>\n",
       "    <tr>\n",
       "      <td>4</td>\n",
       "      <td>13.0</td>\n",
       "      <td>10.0</td>\n",
       "      <td>14.0</td>\n",
       "      <td>15.0</td>\n",
       "      <td>14.0</td>\n",
       "      <td>no-4</td>\n",
       "    </tr>\n",
       "  </tbody>\n",
       "</table>\n",
       "</div>"
      ],
      "text/plain": [
       "   Sunday  Monday  Tuesday  Wednesday  Thursday expirment_no\n",
       "0    12.0     7.0      9.0        8.0      14.0         no-0\n",
       "1    11.0    14.0     14.0       14.0       9.0         no-1\n",
       "2    10.0    10.0     12.0        9.0       9.0         no-2\n",
       "3    13.0    10.0     10.0       13.0      11.0         no-3\n",
       "4    13.0    10.0     14.0       15.0      14.0         no-4"
      ]
     },
     "execution_count": 13,
     "metadata": {},
     "output_type": "execute_result"
    }
   ],
   "source": [
    "df.drop('no', axis=1, inplace=True)\n",
    "df.drop('id', axis=1, inplace=True)\n",
    "df.head()"
   ]
  },
  {
   "cell_type": "code",
   "execution_count": 14,
   "metadata": {},
   "outputs": [
    {
     "data": {
      "text/html": [
       "<div>\n",
       "<style scoped>\n",
       "    .dataframe tbody tr th:only-of-type {\n",
       "        vertical-align: middle;\n",
       "    }\n",
       "\n",
       "    .dataframe tbody tr th {\n",
       "        vertical-align: top;\n",
       "    }\n",
       "\n",
       "    .dataframe thead th {\n",
       "        text-align: right;\n",
       "    }\n",
       "</style>\n",
       "<table border=\"1\" class=\"dataframe\">\n",
       "  <thead>\n",
       "    <tr style=\"text-align: right;\">\n",
       "      <th></th>\n",
       "      <th>expirment_no</th>\n",
       "      <th>Sunday</th>\n",
       "      <th>Monday</th>\n",
       "      <th>Tuesday</th>\n",
       "      <th>Wednesday</th>\n",
       "      <th>Thursday</th>\n",
       "    </tr>\n",
       "  </thead>\n",
       "  <tbody>\n",
       "    <tr>\n",
       "      <td>0</td>\n",
       "      <td>no-0</td>\n",
       "      <td>12.0</td>\n",
       "      <td>7.0</td>\n",
       "      <td>9.0</td>\n",
       "      <td>8.0</td>\n",
       "      <td>14.0</td>\n",
       "    </tr>\n",
       "    <tr>\n",
       "      <td>1</td>\n",
       "      <td>no-1</td>\n",
       "      <td>11.0</td>\n",
       "      <td>14.0</td>\n",
       "      <td>14.0</td>\n",
       "      <td>14.0</td>\n",
       "      <td>9.0</td>\n",
       "    </tr>\n",
       "    <tr>\n",
       "      <td>2</td>\n",
       "      <td>no-2</td>\n",
       "      <td>10.0</td>\n",
       "      <td>10.0</td>\n",
       "      <td>12.0</td>\n",
       "      <td>9.0</td>\n",
       "      <td>9.0</td>\n",
       "    </tr>\n",
       "    <tr>\n",
       "      <td>3</td>\n",
       "      <td>no-3</td>\n",
       "      <td>13.0</td>\n",
       "      <td>10.0</td>\n",
       "      <td>10.0</td>\n",
       "      <td>13.0</td>\n",
       "      <td>11.0</td>\n",
       "    </tr>\n",
       "    <tr>\n",
       "      <td>4</td>\n",
       "      <td>no-4</td>\n",
       "      <td>13.0</td>\n",
       "      <td>10.0</td>\n",
       "      <td>14.0</td>\n",
       "      <td>15.0</td>\n",
       "      <td>14.0</td>\n",
       "    </tr>\n",
       "  </tbody>\n",
       "</table>\n",
       "</div>"
      ],
      "text/plain": [
       "  expirment_no  Sunday  Monday  Tuesday  Wednesday  Thursday\n",
       "0         no-0    12.0     7.0      9.0        8.0      14.0\n",
       "1         no-1    11.0    14.0     14.0       14.0       9.0\n",
       "2         no-2    10.0    10.0     12.0        9.0       9.0\n",
       "3         no-3    13.0    10.0     10.0       13.0      11.0\n",
       "4         no-4    13.0    10.0     14.0       15.0      14.0"
      ]
     },
     "execution_count": 14,
     "metadata": {},
     "output_type": "execute_result"
    }
   ],
   "source": [
    "df = df[['expirment_no', 'Sunday','Monday','Tuesday','Wednesday','Thursday']]\n",
    "df.head()"
   ]
  },
  {
   "cell_type": "code",
   "execution_count": 15,
   "metadata": {},
   "outputs": [
    {
     "data": {
      "text/plain": [
       "500000"
      ]
     },
     "execution_count": 15,
     "metadata": {},
     "output_type": "execute_result"
    }
   ],
   "source": [
    "len(df)"
   ]
  },
  {
   "cell_type": "code",
   "execution_count": 16,
   "metadata": {},
   "outputs": [],
   "source": [
    "def update_minutes(d):\n",
    "    '''\n",
    "    This function for setting the minutes\n",
    "    '''\n",
    "    rand_minutes = np.random.choice(np.arange(0.1,0.6,0.01), size=len(df))\n",
    "    d+= rand_minutes\n",
    "    return (d)\n",
    "    "
   ]
  },
  {
   "cell_type": "code",
   "execution_count": 17,
   "metadata": {},
   "outputs": [],
   "source": [
    "df['Sunday']= update_minutes(df['Sunday'])\n",
    "df['Monday']= update_minutes(df['Monday'])\n",
    "df['Tuesday']= update_minutes(df['Tuesday'])\n",
    "df['Wednesday']= update_minutes(df['Wednesday'])\n",
    "df['Thursday']= update_minutes(df['Thursday'])"
   ]
  },
  {
   "cell_type": "code",
   "execution_count": 18,
   "metadata": {},
   "outputs": [
    {
     "data": {
      "text/html": [
       "<div>\n",
       "<style scoped>\n",
       "    .dataframe tbody tr th:only-of-type {\n",
       "        vertical-align: middle;\n",
       "    }\n",
       "\n",
       "    .dataframe tbody tr th {\n",
       "        vertical-align: top;\n",
       "    }\n",
       "\n",
       "    .dataframe thead th {\n",
       "        text-align: right;\n",
       "    }\n",
       "</style>\n",
       "<table border=\"1\" class=\"dataframe\">\n",
       "  <thead>\n",
       "    <tr style=\"text-align: right;\">\n",
       "      <th></th>\n",
       "      <th>expirment_no</th>\n",
       "      <th>Sunday</th>\n",
       "      <th>Monday</th>\n",
       "      <th>Tuesday</th>\n",
       "      <th>Wednesday</th>\n",
       "      <th>Thursday</th>\n",
       "    </tr>\n",
       "  </thead>\n",
       "  <tbody>\n",
       "    <tr>\n",
       "      <td>0</td>\n",
       "      <td>no-0</td>\n",
       "      <td>12.20</td>\n",
       "      <td>7.47</td>\n",
       "      <td>9.36</td>\n",
       "      <td>8.50</td>\n",
       "      <td>14.56</td>\n",
       "    </tr>\n",
       "    <tr>\n",
       "      <td>1</td>\n",
       "      <td>no-1</td>\n",
       "      <td>11.54</td>\n",
       "      <td>14.46</td>\n",
       "      <td>14.56</td>\n",
       "      <td>14.10</td>\n",
       "      <td>9.57</td>\n",
       "    </tr>\n",
       "    <tr>\n",
       "      <td>2</td>\n",
       "      <td>no-2</td>\n",
       "      <td>10.38</td>\n",
       "      <td>10.23</td>\n",
       "      <td>12.21</td>\n",
       "      <td>9.15</td>\n",
       "      <td>9.32</td>\n",
       "    </tr>\n",
       "    <tr>\n",
       "      <td>3</td>\n",
       "      <td>no-3</td>\n",
       "      <td>13.47</td>\n",
       "      <td>10.28</td>\n",
       "      <td>10.18</td>\n",
       "      <td>13.38</td>\n",
       "      <td>11.51</td>\n",
       "    </tr>\n",
       "    <tr>\n",
       "      <td>4</td>\n",
       "      <td>no-4</td>\n",
       "      <td>13.19</td>\n",
       "      <td>10.30</td>\n",
       "      <td>14.48</td>\n",
       "      <td>15.48</td>\n",
       "      <td>14.19</td>\n",
       "    </tr>\n",
       "  </tbody>\n",
       "</table>\n",
       "</div>"
      ],
      "text/plain": [
       "  expirment_no  Sunday  Monday  Tuesday  Wednesday  Thursday\n",
       "0         no-0   12.20    7.47     9.36       8.50     14.56\n",
       "1         no-1   11.54   14.46    14.56      14.10      9.57\n",
       "2         no-2   10.38   10.23    12.21       9.15      9.32\n",
       "3         no-3   13.47   10.28    10.18      13.38     11.51\n",
       "4         no-4   13.19   10.30    14.48      15.48     14.19"
      ]
     },
     "execution_count": 18,
     "metadata": {},
     "output_type": "execute_result"
    }
   ],
   "source": [
    "df.head()"
   ]
  },
  {
   "cell_type": "code",
   "execution_count": 19,
   "metadata": {},
   "outputs": [],
   "source": [
    "def ecdf(data):\n",
    "    '''\n",
    "    The cumulative distribution function gives you the cumulative probability associated with a function. \n",
    "    It is a similar concept to a cumulative frequency table. With a table, the frequency is the amount of \n",
    "    times a particular number or item happens. The cumulative frequency is the total counts up to a certain number.\n",
    "    source : https://www.statisticshowto.datasciencecentral.com/cumulative-distribution-function/\n",
    "    \n",
    "    input: \n",
    "            column of dataset.\n",
    "    \n",
    "    output:\n",
    "            - x: sotring x values.\n",
    "            - y: the probability that an observation will be greater than \n",
    "                 a certain value, or between two values sourse:\n",
    "                 https://support.minitab.com/en-us/minitab-express/1/help-and-how-to/basic-statistics/probability-distributions/supporting-topics/basics/using-the-cumulative-distribution-function-cdf/\n",
    "    '''\n",
    "    n= len(data)\n",
    "    x= np.sort(data)\n",
    "    y= np.arange(1, n+1)/n\n",
    "    \n",
    "    return x,y"
   ]
  },
  {
   "cell_type": "code",
   "execution_count": 20,
   "metadata": {},
   "outputs": [],
   "source": [
    "def Probability(data):\n",
    "    '''\n",
    "    \n",
    "    '''\n",
    "    siz= np.unique(data.values)\n",
    "    for i in siz:\n",
    "        print('P(',i, ') = ', np.count_nonzero(data == i)/np.size(data)*100)"
   ]
  },
  {
   "cell_type": "markdown",
   "metadata": {},
   "source": [
    "# <center>  الإحــتــمـالات </center>"
   ]
  },
  {
   "cell_type": "markdown",
   "metadata": {},
   "source": [
    "<div style=\"direction:rtl\">\n",
    "    <font size=\"4\">\n",
    "    سوف نأخذ أي يوم على سبيل المثال الأحد\n",
    "    </font>\n",
    "</div>"
   ]
  },
  {
   "cell_type": "code",
   "execution_count": 21,
   "metadata": {},
   "outputs": [
    {
     "data": {
      "image/png": "[encoded data removed]",
      "text/plain": [
       "<Figure size 864x216 with 1 Axes>"
      ]
     },
     "metadata": {
      "needs_background": "light"
     },
     "output_type": "display_data"
    }
   ],
   "source": [
    "_=plt.figure(figsize=(12,3))\n",
    "x,y= ecdf(df[(df['Sunday']>= 0 )& (df['Sunday']< 24)]['Sunday'])\n",
    "_=plt.plot(x,y, marker='.', linestyle='none')\n",
    "_=plt.xticks(np.arange(0,24))\n",
    "_=plt.axvline(15, color='red')\n",
    "_=plt.axvline(6, color='red')\n",
    "_=plt.axvspan(6, 15, alpha=0.5, color='g')\n",
    "_= plt.title('ECDF of Mobility during the quarantine period of Sunday')\n",
    "_= plt.xlabel('time')\n",
    "_= plt.ylabel('probability')\n",
    "plt.show()"
   ]
  },
  {
   "cell_type": "code",
   "execution_count": 22,
   "metadata": {},
   "outputs": [],
   "source": [
    "bins= np.arange(0,24)\n",
    "Bins_of_data= pd.cut(df[(df['Sunday']>= 0 )| (df['Sunday']< 24)]['Sunday'], bins)\n",
    "Bins_of_data.dropna(inplace=True)"
   ]
  },
  {
   "cell_type": "code",
   "execution_count": 23,
   "metadata": {},
   "outputs": [
    {
     "name": "stdout",
     "output_type": "stream",
     "text": [
      "P( (0, 1] ) =  0.0072001728041472994\n",
      "P( (1, 2] ) =  0.022800547213133116\n",
      "P( (2, 3] ) =  0.08300199204780916\n",
      "P( (3, 4] ) =  0.2826067825627815\n",
      "P( (4, 5] ) =  0.648015552373257\n",
      "P( (5, 6] ) =  1.4830355928542285\n",
      "P( (6, 7] ) =  2.9090698176756242\n",
      "P( (7, 8] ) =  5.179724313383521\n",
      "P( (8, 9] ) =  8.090394169460067\n",
      "P( (9, 10] ) =  11.00946422714145\n",
      "P( (10, 11] ) =  13.20871700920822\n",
      "P( (11, 12] ) =  14.14933958415002\n",
      "P( (12, 13] ) =  13.342720225285406\n",
      "P( (13, 14] ) =  10.911261870284887\n",
      "P( (14, 15] ) =  8.051393233437603\n",
      "P( (15, 16] ) =  5.198724769394465\n",
      "P( (16, 17] ) =  2.9102698464763153\n",
      "P( (17, 18] ) =  1.486635679256302\n",
      "P( (18, 19] ) =  0.6606158547805148\n",
      "P( (19, 20] ) =  0.24960599054377305\n",
      "P( (20, 21] ) =  0.08360200644815476\n",
      "P( (21, 22] ) =  0.025400609614630754\n",
      "P( (22, 23] ) =  0.0064001536036864875\n"
     ]
    }
   ],
   "source": [
    "Probability(Bins_of_data.sort_values())"
   ]
  },
  {
   "cell_type": "markdown",
   "metadata": {},
   "source": [
    "<div style=\"direction:rtl\">\n",
    "    <font size=\"4\">\n",
    "    في النظام الجديد سيكون وقت الذروة من الساعة 6 صباحاً حتى 15 عصراً وهو الوقت الذي سيكون فيه زحام شديد في الطرقات وهذا شيء بديهي.\n",
    "    <ul>\n",
    "  <li>\n",
    "من هذه البيانات بيتبن لنا أن نسبة احتمالية الخروج  من الساعة 6 صباحا حتى 15 عصراً تساوي 86% وهي تساوي 430000 مشوار وخروج إلى الشوارع لإستغلال فترة السماح هذه لقضاء الاحتياجات اليومية أو القيام الأعمال اللازمة.  \n",
    "</li>\n",
    "    <li>\n",
    "    احتمالية خروج في الوقت من الساعة 15 عصراً حتى 12 منصف الليل تساوي تقريباً 10.6% وبالعادة هم من لديهم عمل في الفترة المسائية أو لديهم ضروف طارئة تجبرهم على الخروج، ومنهم من تأخر في الوصول أثناء خروج موظفي الشركات العاملة، وبعض القطاعات العسكرية.\n",
    "</li>\n",
    "    <li>\n",
    "    احتمالية الخروج من الساعة 12 بعد منتصف الليل إلى قبل الساعة 6 صباحاً تساوي 0.03% . \n",
    "       </li>\n",
    "    <li>\n",
    "فترة الزحام الشديد من الساعة 8 صباحاً حتى 12 ظهراً احتمالية الخروج في هذا الوقت تساوي 46% وتساوي 230000 مشوار. \n",
    "    </li>\n",
    "    \n",
    "    \n",
    "</ul>\n",
    "</font>\n",
    "</div>"
   ]
  },
  {
   "cell_type": "code",
   "execution_count": 24,
   "metadata": {},
   "outputs": [
    {
     "data": {
      "image/png": "[encoded data removed]",
      "text/plain": [
       "<Figure size 432x288 with 1 Axes>"
      ]
     },
     "metadata": {
      "needs_background": "light"
     },
     "output_type": "display_data"
    }
   ],
   "source": [
    "bins = np.arange(0,24)\n",
    "ax= pd.cut(df[(df['Sunday']< 6 )| (df['Sunday']> 15)]['Sunday'], bins).value_counts()[:13].plot(kind='bar', title='Number of persons how go out side during the quarantine period')\n",
    "ax.set_xlabel(\"The times\")\n",
    "ax.set_ylabel(\"count of persons\");"
   ]
  },
  {
   "cell_type": "code",
   "execution_count": null,
   "metadata": {},
   "outputs": [],
   "source": []
  }
 ],
 "metadata": {
  "kernelspec": {
   "display_name": "Python 3",
   "language": "python",
   "name": "python3"
  },
  "language_info": {
   "codemirror_mode": {
    "name": "ipython",
    "version": 3
   },
   "file_extension": ".py",
   "mimetype": "text/x-python",
   "name": "python",
   "nbconvert_exporter": "python",
   "pygments_lexer": "ipython3",
   "version": "3.7.4"
  }
 },
 "nbformat": 4,
 "nbformat_minor": 2
}
